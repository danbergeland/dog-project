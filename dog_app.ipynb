{
 "cells": [
  {
   "cell_type": "markdown",
   "metadata": {},
   "source": [
    "# Artificial Intelligence Nanodegree\n",
    "\n",
    "## Convolutional Neural Networks\n",
    "\n",
    "## Project: Write an Algorithm for a Dog Identification App \n",
    "\n",
    "---\n",
    "\n",
    "In this notebook, some template code has already been provided for you, and you will need to implement additional functionality to successfully complete this project. You will not need to modify the included code beyond what is requested. Sections that begin with **'(IMPLEMENTATION)'** in the header indicate that the following block of code will require additional functionality which you must provide. Instructions will be provided for each section, and the specifics of the implementation are marked in the code block with a 'TODO' statement. Please be sure to read the instructions carefully! \n",
    "\n",
    "> **Note**: Once you have completed all of the code implementations, you need to finalize your work by exporting the iPython Notebook as an HTML document. Before exporting the notebook to html, all of the code cells need to have been run so that reviewers can see the final implementation and output. You can then export the notebook by using the menu above and navigating to  \\n\",\n",
    "    \"**File -> Download as -> HTML (.html)**. Include the finished document along with this notebook as your submission.\n",
    "\n",
    "In addition to implementing code, there will be questions that you must answer which relate to the project and your implementation. Each section where you will answer a question is preceded by a **'Question X'** header. Carefully read each question and provide thorough answers in the following text boxes that begin with **'Answer:'**. Your project submission will be evaluated based on your answers to each of the questions and the implementation you provide.\n",
    "\n",
    ">**Note:** Code and Markdown cells can be executed using the **Shift + Enter** keyboard shortcut.  Markdown cells can be edited by double-clicking the cell to enter edit mode.\n",
    "\n",
    "The rubric contains _optional_ \"Stand Out Suggestions\" for enhancing the project beyond the minimum requirements. If you decide to pursue the \"Stand Out Suggestions\", you should include the code in this IPython notebook.\n",
    "\n",
    "\n",
    "\n",
    "---\n",
    "### Why We're Here \n",
    "\n",
    "In this notebook, you will make the first steps towards developing an algorithm that could be used as part of a mobile or web app.  At the end of this project, your code will accept any user-supplied image as input.  If a dog is detected in the image, it will provide an estimate of the dog's breed.  If a human is detected, it will provide an estimate of the dog breed that is most resembling.  The image below displays potential sample output of your finished project (... but we expect that each student's algorithm will behave differently!). \n",
    "\n",
    "![Sample Dog Output](images/sample_dog_output.png)\n",
    "\n",
    "In this real-world setting, you will need to piece together a series of models to perform different tasks; for instance, the algorithm that detects humans in an image will be different from the CNN that infers dog breed.  There are many points of possible failure, and no perfect algorithm exists.  Your imperfect solution will nonetheless create a fun user experience!\n",
    "\n",
    "### The Road Ahead\n",
    "\n",
    "We break the notebook into separate steps.  Feel free to use the links below to navigate the notebook.\n",
    "\n",
    "* [Step 0](#step0): Import Datasets\n",
    "* [Step 1](#step1): Detect Humans\n",
    "* [Step 2](#step2): Detect Dogs\n",
    "* [Step 3](#step3): Create a CNN to Classify Dog Breeds (from Scratch)\n",
    "* [Step 4](#step4): Use a CNN to Classify Dog Breeds (using Transfer Learning)\n",
    "* [Step 5](#step5): Create a CNN to Classify Dog Breeds (using Transfer Learning)\n",
    "* [Step 6](#step6): Write your Algorithm\n",
    "* [Step 7](#step7): Test Your Algorithm\n",
    "\n",
    "---\n",
    "<a id='step0'></a>\n",
    "## Step 0: Import Datasets\n",
    "\n",
    "### Import Dog Dataset\n",
    "\n",
    "In the code cell below, we import a dataset of dog images.  We populate a few variables through the use of the `load_files` function from the scikit-learn library:\n",
    "- `train_files`, `valid_files`, `test_files` - numpy arrays containing file paths to images\n",
    "- `train_targets`, `valid_targets`, `test_targets` - numpy arrays containing onehot-encoded classification labels \n",
    "- `dog_names` - list of string-valued dog breed names for translating labels"
   ]
  },
  {
   "cell_type": "code",
   "execution_count": 1,
   "metadata": {},
   "outputs": [
    {
     "name": "stderr",
     "output_type": "stream",
     "text": [
      "Using TensorFlow backend.\n",
      "/home/dan/anaconda3/envs/dogcnn/lib/python3.6/importlib/_bootstrap.py:219: RuntimeWarning: compiletime version 3.5 of module 'tensorflow.python.framework.fast_tensor_util' does not match runtime version 3.6\n",
      "  return f(*args, **kwds)\n"
     ]
    },
    {
     "name": "stdout",
     "output_type": "stream",
     "text": [
      "There are 133 total dog categories.\n",
      "There are 8351 total dog images.\n",
      "\n",
      "There are 6680 training dog images.\n",
      "There are 835 validation dog images.\n",
      "There are 836 test dog images.\n"
     ]
    }
   ],
   "source": [
    "from sklearn.datasets import load_files       \n",
    "from keras.utils import np_utils\n",
    "import numpy as np\n",
    "from glob import glob\n",
    "\n",
    "# define function to load train, test, and validation datasets\n",
    "def load_dataset(path):\n",
    "    data = load_files(path)\n",
    "    dog_files = np.array(data['filenames'])\n",
    "    dog_targets = np_utils.to_categorical(np.array(data['target']), 133)\n",
    "    return dog_files, dog_targets\n",
    "\n",
    "# load train, test, and validation datasets\n",
    "train_files, train_targets = load_dataset('dogImages/train')\n",
    "valid_files, valid_targets = load_dataset('dogImages/valid')\n",
    "test_files, test_targets = load_dataset('dogImages/test')\n",
    "\n",
    "# load list of dog names\n",
    "dog_names = [item[20:-1] for item in sorted(glob(\"dogImages/train/*/\"))]\n",
    "\n",
    "# print statistics about the dataset\n",
    "print('There are %d total dog categories.' % len(dog_names))\n",
    "print('There are %s total dog images.\\n' % len(np.hstack([train_files, valid_files, test_files])))\n",
    "print('There are %d training dog images.' % len(train_files))\n",
    "print('There are %d validation dog images.' % len(valid_files))\n",
    "print('There are %d test dog images.'% len(test_files))"
   ]
  },
  {
   "cell_type": "markdown",
   "metadata": {},
   "source": [
    "### Import Human Dataset\n",
    "\n",
    "In the code cell below, we import a dataset of human images, where the file paths are stored in the numpy array `human_files`."
   ]
  },
  {
   "cell_type": "code",
   "execution_count": 2,
   "metadata": {},
   "outputs": [
    {
     "name": "stdout",
     "output_type": "stream",
     "text": [
      "There are 13233 total human images.\n"
     ]
    }
   ],
   "source": [
    "import random\n",
    "random.seed(8675309)\n",
    "\n",
    "# load filenames in shuffled human dataset\n",
    "human_files = np.array(glob(\"lfw/lfw/*/*\"))\n",
    "random.shuffle(human_files)\n",
    "\n",
    "# print statistics about the dataset\n",
    "print('There are %d total human images.' % len(human_files))"
   ]
  },
  {
   "cell_type": "markdown",
   "metadata": {},
   "source": [
    "---\n",
    "<a id='step1'></a>\n",
    "## Step 1: Detect Humans\n",
    "\n",
    "We use OpenCV's implementation of [Haar feature-based cascade classifiers](http://docs.opencv.org/trunk/d7/d8b/tutorial_py_face_detection.html) to detect human faces in images.  OpenCV provides many pre-trained face detectors, stored as XML files on [github](https://github.com/opencv/opencv/tree/master/data/haarcascades).  We have downloaded one of these detectors and stored it in the `haarcascades` directory.\n",
    "\n",
    "In the next code cell, we demonstrate how to use this detector to find human faces in a sample image."
   ]
  },
  {
   "cell_type": "code",
   "execution_count": 3,
   "metadata": {},
   "outputs": [
    {
     "name": "stdout",
     "output_type": "stream",
     "text": [
      "lfw/lfw/Prem_Kumar_Nair/Prem_Kumar_Nair_0001.jpg\n"
     ]
    }
   ],
   "source": [
    "print(human_files[3])"
   ]
  },
  {
   "cell_type": "code",
   "execution_count": 4,
   "metadata": {},
   "outputs": [
    {
     "name": "stdout",
     "output_type": "stream",
     "text": [
      "Number of faces detected: 1\n"
     ]
    },
    {
     "data": {
      "image/png": "[encoded data removed]",
      "text/plain": [
       "<matplotlib.figure.Figure at 0x7f75ae6967f0>"
      ]
     },
     "metadata": {},
     "output_type": "display_data"
    }
   ],
   "source": [
    "import cv2                \n",
    "import matplotlib.pyplot as plt                        \n",
    "%matplotlib inline                               \n",
    "\n",
    "# extract pre-trained face detector\n",
    "face_cascade = cv2.CascadeClassifier('haarcascades/haarcascade_frontalface_alt.xml')\n",
    "\n",
    "# load color (BGR) image\n",
    "img = cv2.imread(human_files[3])\n",
    "\n",
    "# convert BGR image to grayscale\n",
    "gray = cv2.cvtColor(img, cv2.COLOR_BGR2GRAY)\n",
    "\n",
    "# find faces in image\n",
    "faces = face_cascade.detectMultiScale(gray)\n",
    "\n",
    "# print number of faces detected in the image\n",
    "print('Number of faces detected:', len(faces))\n",
    "\n",
    "# get bounding box for each detected face\n",
    "for (x,y,w,h) in faces:\n",
    "    # add bounding box to color image\n",
    "    cv2.rectangle(img,(x,y),(x+w,y+h),(255,0,0),2)\n",
    "    \n",
    "# convert BGR image to RGB for plotting\n",
    "cv_rgb = cv2.cvtColor(img, cv2.COLOR_BGR2RGB)\n",
    "\n",
    "# display the image, along with bounding box\n",
    "plt.imshow(cv_rgb)\n",
    "plt.show()"
   ]
  },
  {
   "cell_type": "markdown",
   "metadata": {},
   "source": [
    "Before using any of the face detectors, it is standard procedure to convert the images to grayscale.  The `detectMultiScale` function executes the classifier stored in `face_cascade` and takes the grayscale image as a parameter.  \n",
    "\n",
    "In the above code, `faces` is a numpy array of detected faces, where each row corresponds to a detected face.  Each detected face is a 1D array with four entries that specifies the bounding box of the detected face.  The first two entries in the array (extracted in the above code as `x` and `y`) specify the horizontal and vertical positions of the top left corner of the bounding box.  The last two entries in the array (extracted here as `w` and `h`) specify the width and height of the box.\n",
    "\n",
    "### Write a Human Face Detector\n",
    "\n",
    "We can use this procedure to write a function that returns `True` if a human face is detected in an image and `False` otherwise.  This function, aptly named `face_detector`, takes a string-valued file path to an image as input and appears in the code block below."
   ]
  },
  {
   "cell_type": "code",
   "execution_count": 5,
   "metadata": {
    "collapsed": true
   },
   "outputs": [],
   "source": [
    "# returns \"True\" if face is detected in image stored at img_path\n",
    "def face_detector(img_path):\n",
    "    img = cv2.imread(img_path)\n",
    "    gray = cv2.cvtColor(img, cv2.COLOR_BGR2GRAY)\n",
    "    faces = face_cascade.detectMultiScale(gray)\n",
    "    return len(faces) > 0"
   ]
  },
  {
   "cell_type": "markdown",
   "metadata": {},
   "source": [
    "### (IMPLEMENTATION) Assess the Human Face Detector\n",
    "\n",
    "__Question 1:__ Use the code cell below to test the performance of the `face_detector` function.  \n",
    "- What percentage of the first 100 images in `human_files` have a detected human face?  \n",
    "- What percentage of the first 100 images in `dog_files` have a detected human face? \n",
    "\n",
    "Ideally, we would like 100% of human images with a detected face and 0% of dog images with a detected face.  You will see that our algorithm falls short of this goal, but still gives acceptable performance.  We extract the file paths for the first 100 images from each of the datasets and store them in the numpy arrays `human_files_short` and `dog_files_short`.\n",
    "\n",
    "__Answer:__ "
   ]
  },
  {
   "cell_type": "code",
   "execution_count": 8,
   "metadata": {},
   "outputs": [
    {
     "name": "stdout",
     "output_type": "stream",
     "text": [
      "Human Face Dataset:\n",
      "Images with faces detected:  98 \n",
      "Total Images:  100\n",
      "Percent:  98.0 %\n"
     ]
    }
   ],
   "source": [
    "human_files_short = human_files[:100]\n",
    "dog_files_short = train_files[:100]\n",
    "# Do NOT modify the code above this line.\n",
    "\n",
    "## TODO: Test the performance of the face_detector algorithm \n",
    "## on the images in human_files_short and dog_files_short.\n",
    "detected_faces = 0\n",
    "total_images= 0\n",
    "for human_file in human_files_short:\n",
    "    # load color (BGR) image\n",
    "    img = cv2.imread(human_file)\n",
    "\n",
    "    # convert BGR image to grayscale\n",
    "    gray = cv2.cvtColor(img, cv2.COLOR_BGR2GRAY)\n",
    "\n",
    "    # find faces in image\n",
    "    faces = face_cascade.detectMultiScale(gray)\n",
    "\n",
    "    if len(faces) > 0:\n",
    "        detected_faces += 1\n",
    "    total_images += 1\n",
    "\n",
    "print(\"Human Face Dataset:\\nImages with faces detected: \", detected_faces, \"\\nTotal Images: \", total_images)\n",
    "print(\"Percent: \", 100*detected_faces/total_images, \"%\")\n",
    "\n",
    "\n",
    "    "
   ]
  },
  {
   "cell_type": "code",
   "execution_count": 9,
   "metadata": {},
   "outputs": [
    {
     "name": "stdout",
     "output_type": "stream",
     "text": [
      "Dog Dataset:\n",
      "Images with faces detected:  11 \n",
      "Total Images:  100\n",
      "Percent:  11.0 %\n"
     ]
    }
   ],
   "source": [
    "detected_faces = 0\n",
    "total_images= 0\n",
    "for dog_file in dog_files_short:\n",
    "# load color (BGR) image\n",
    "    img = cv2.imread(dog_file)\n",
    "\n",
    "    # convert BGR image to grayscale\n",
    "    gray = cv2.cvtColor(img, cv2.COLOR_BGR2GRAY)\n",
    "\n",
    "    # find faces in image\n",
    "    faces = face_cascade.detectMultiScale(gray)\n",
    "\n",
    "    if len(faces) > 0:\n",
    "        detected_faces += 1\n",
    "    total_images += 1\n",
    "\n",
    "print(\"Dog Dataset:\\nImages with faces detected: \", detected_faces, \"\\nTotal Images: \", total_images)\n",
    "print(\"Percent: \", 100*detected_faces/total_images,\"%\")\n",
    "    "
   ]
  },
  {
   "cell_type": "markdown",
   "metadata": {},
   "source": [
    "__Question 2:__ This algorithmic choice necessitates that we communicate to the user that we accept human images only when they provide a clear view of a face (otherwise, we risk having unneccessarily frustrated users!). In your opinion, is this a reasonable expectation to pose on the user? If not, can you think of a way to detect humans in images that does not necessitate an image with a clearly presented face?\n",
    "\n",
    "__Answer:__\n",
    "\n",
    "We suggest the face detector from OpenCV as a potential way to detect human images in your algorithm, but you are free to explore other approaches, especially approaches that make use of deep learning :).  Please use the code cell below to design and test your own face detection algorithm.  If you decide to pursue this _optional_ task, report performance on each of the datasets."
   ]
  },
  {
   "cell_type": "markdown",
   "metadata": {},
   "source": [
    "ANSWER:\n",
    "It could be a reasonable thing to ask of a user, but the experience would be better if they didn't have to worry about it.  To detect humans, we should train something on a dataset that's not just made of faces.  We would need faces, as well as full body images in various poses."
   ]
  },
  {
   "cell_type": "code",
   "execution_count": 8,
   "metadata": {
    "collapsed": true
   },
   "outputs": [],
   "source": [
    "## (Optional) TODO: Report the performance of another  \n",
    "## face detection algorithm on the LFW dataset\n",
    "### Feel free to use as many code cells as needed."
   ]
  },
  {
   "cell_type": "markdown",
   "metadata": {},
   "source": [
    "---\n",
    "<a id='step2'></a>\n",
    "## Step 2: Detect Dogs\n",
    "\n",
    "In this section, we use a pre-trained [ResNet-50](http://ethereon.github.io/netscope/#/gist/db945b393d40bfa26006) model to detect dogs in images.  Our first line of code downloads the ResNet-50 model, along with weights that have been trained on [ImageNet](http://www.image-net.org/), a very large, very popular dataset used for image classification and other vision tasks.  ImageNet contains over 10 million URLs, each linking to an image containing an object from one of [1000 categories](https://gist.github.com/yrevar/942d3a0ac09ec9e5eb3a).  Given an image, this pre-trained ResNet-50 model returns a prediction (derived from the available categories in ImageNet) for the object that is contained in the image."
   ]
  },
  {
   "cell_type": "code",
   "execution_count": 10,
   "metadata": {
    "collapsed": true
   },
   "outputs": [],
   "source": [
    "from keras.applications.resnet50 import ResNet50\n",
    "\n",
    "# define ResNet50 model\n",
    "ResNet50_model = ResNet50(weights='imagenet')"
   ]
  },
  {
   "cell_type": "markdown",
   "metadata": {},
   "source": [
    "### Pre-process the Data\n",
    "\n",
    "When using TensorFlow as backend, Keras CNNs require a 4D array (which we'll also refer to as a 4D tensor) as input, with shape\n",
    "\n",
    "$$\n",
    "(\\text{nb_samples}, \\text{rows}, \\text{columns}, \\text{channels}),\n",
    "$$\n",
    "\n",
    "where `nb_samples` corresponds to the total number of images (or samples), and `rows`, `columns`, and `channels` correspond to the number of rows, columns, and channels for each image, respectively.  \n",
    "\n",
    "The `path_to_tensor` function below takes a string-valued file path to a color image as input and returns a 4D tensor suitable for supplying to a Keras CNN.  The function first loads the image and resizes it to a square image that is $224 \\times 224$ pixels.  Next, the image is converted to an array, which is then resized to a 4D tensor.  In this case, since we are working with color images, each image has three channels.  Likewise, since we are processing a single image (or sample), the returned tensor will always have shape\n",
    "\n",
    "$$\n",
    "(1, 224, 224, 3).\n",
    "$$\n",
    "\n",
    "The `paths_to_tensor` function takes a numpy array of string-valued image paths as input and returns a 4D tensor with shape \n",
    "\n",
    "$$\n",
    "(\\text{nb_samples}, 224, 224, 3).\n",
    "$$\n",
    "\n",
    "Here, `nb_samples` is the number of samples, or number of images, in the supplied array of image paths.  It is best to think of `nb_samples` as the number of 3D tensors (where each 3D tensor corresponds to a different image) in your dataset!"
   ]
  },
  {
   "cell_type": "code",
   "execution_count": 11,
   "metadata": {
    "collapsed": true
   },
   "outputs": [],
   "source": [
    "from keras.preprocessing import image                  \n",
    "from tqdm import tqdm\n",
    "\n",
    "def path_to_tensor(img_path):\n",
    "    # loads RGB image as PIL.Image.Image type\n",
    "    img = image.load_img(img_path, target_size=(224, 224))\n",
    "    # convert PIL.Image.Image type to 3D tensor with shape (224, 224, 3)\n",
    "    x = image.img_to_array(img)\n",
    "    # convert 3D tensor to 4D tensor with shape (1, 224, 224, 3) and return 4D tensor\n",
    "    return np.expand_dims(x, axis=0)\n",
    "\n",
    "def paths_to_tensor(img_paths):\n",
    "    list_of_tensors = [path_to_tensor(img_path) for img_path in tqdm(img_paths)]\n",
    "    return np.vstack(list_of_tensors)"
   ]
  },
  {
   "cell_type": "markdown",
   "metadata": {},
   "source": [
    "### Making Predictions with ResNet-50\n",
    "\n",
    "Getting the 4D tensor ready for ResNet-50, and for any other pre-trained model in Keras, requires some additional processing.  First, the RGB image is converted to BGR by reordering the channels.  All pre-trained models have the additional normalization step that the mean pixel (expressed in RGB as $[103.939, 116.779, 123.68]$ and calculated from all pixels in all images in ImageNet) must be subtracted from every pixel in each image.  This is implemented in the imported function `preprocess_input`.  If you're curious, you can check the code for `preprocess_input` [here](https://github.com/fchollet/keras/blob/master/keras/applications/imagenet_utils.py).\n",
    "\n",
    "Now that we have a way to format our image for supplying to ResNet-50, we are now ready to use the model to extract the predictions.  This is accomplished with the `predict` method, which returns an array whose $i$-th entry is the model's predicted probability that the image belongs to the $i$-th ImageNet category.  This is implemented in the `ResNet50_predict_labels` function below.\n",
    "\n",
    "By taking the argmax of the predicted probability vector, we obtain an integer corresponding to the model's predicted object class, which we can identify with an object category through the use of this [dictionary](https://gist.github.com/yrevar/942d3a0ac09ec9e5eb3a). "
   ]
  },
  {
   "cell_type": "code",
   "execution_count": 12,
   "metadata": {
    "collapsed": true
   },
   "outputs": [],
   "source": [
    "from keras.applications.resnet50 import preprocess_input, decode_predictions\n",
    "\n",
    "def ResNet50_predict_labels(img_path):\n",
    "    # returns prediction vector for image located at img_path\n",
    "    img = preprocess_input(path_to_tensor(img_path))\n",
    "    return np.argmax(ResNet50_model.predict(img))"
   ]
  },
  {
   "cell_type": "markdown",
   "metadata": {},
   "source": [
    "### Write a Dog Detector\n",
    "\n",
    "While looking at the [dictionary](https://gist.github.com/yrevar/942d3a0ac09ec9e5eb3a), you will notice that the categories corresponding to dogs appear in an uninterrupted sequence and correspond to dictionary keys 151-268, inclusive, to include all categories from `'Chihuahua'` to `'Mexican hairless'`.  Thus, in order to check to see if an image is predicted to contain a dog by the pre-trained ResNet-50 model, we need only check if the `ResNet50_predict_labels` function above returns a value between 151 and 268 (inclusive).\n",
    "\n",
    "We use these ideas to complete the `dog_detector` function below, which returns `True` if a dog is detected in an image (and `False` if not)."
   ]
  },
  {
   "cell_type": "code",
   "execution_count": 13,
   "metadata": {
    "collapsed": true
   },
   "outputs": [],
   "source": [
    "### returns \"True\" if a dog is detected in the image stored at img_path\n",
    "def dog_detector(img_path):\n",
    "    prediction = ResNet50_predict_labels(img_path)\n",
    "    return ((prediction <= 268) & (prediction >= 151)) "
   ]
  },
  {
   "cell_type": "markdown",
   "metadata": {},
   "source": [
    "### (IMPLEMENTATION) Assess the Dog Detector\n",
    "\n",
    "__Question 3:__ Use the code cell below to test the performance of your `dog_detector` function.  \n",
    "- What percentage of the images in `human_files_short` have a detected dog?  \n",
    "- What percentage of the images in `dog_files_short` have a detected dog?\n",
    "\n",
    "__Answer:__ "
   ]
  },
  {
   "cell_type": "code",
   "execution_count": 15,
   "metadata": {},
   "outputs": [
    {
     "name": "stdout",
     "output_type": "stream",
     "text": [
      "Human Face Dataset:\n",
      "Images with dogs detected:  0 \n",
      "Total Images:  100\n",
      "Percent:  0.0 %\n"
     ]
    }
   ],
   "source": [
    "detected_dogs = 0\n",
    "total_images= 0\n",
    "for human_file in human_files_short:\n",
    "    is_dog = dog_detector(human_file)\n",
    "\n",
    "    if is_dog:\n",
    "        detected_dogs += 1\n",
    "    total_images += 1\n",
    "\n",
    "print(\"Human Face Dataset:\\nImages with dogs detected: \", detected_dogs, \"\\nTotal Images: \", total_images)\n",
    "print(\"Percent: \", detected_dogs/total_images, \"%\")\n"
   ]
  },
  {
   "cell_type": "code",
   "execution_count": 17,
   "metadata": {},
   "outputs": [
    {
     "name": "stdout",
     "output_type": "stream",
     "text": [
      "Dog Dataset:\n",
      "Images with dogs detected:  100 \n",
      "Total Images:  100\n",
      "Percent:  100.0 %\n"
     ]
    }
   ],
   "source": [
    "detected_dogs = 0\n",
    "total_images= 0\n",
    "for dog_file in dog_files_short:\n",
    "    is_dog = dog_detector(dog_file)\n",
    "\n",
    "    if is_dog:\n",
    "        detected_dogs += 1\n",
    "    total_images += 1\n",
    "\n",
    "print(\"Dog Dataset:\\nImages with dogs detected: \", detected_dogs, \"\\nTotal Images: \", total_images)\n",
    "\n",
    "print(\"Percent: \", 100*detected_dogs/total_images, \"%\")"
   ]
  },
  {
   "cell_type": "markdown",
   "metadata": {},
   "source": [
    "---\n",
    "<a id='step3'></a>\n",
    "## Step 3: Create a CNN to Classify Dog Breeds (from Scratch)\n",
    "\n",
    "Now that we have functions for detecting humans and dogs in images, we need a way to predict breed from images.  In this step, you will create a CNN that classifies dog breeds.  You must create your CNN _from scratch_ (so, you can't use transfer learning _yet_!), and you must attain a test accuracy of at least 1%.  In Step 5 of this notebook, you will have the opportunity to use transfer learning to create a CNN that attains greatly improved accuracy.\n",
    "\n",
    "Be careful with adding too many trainable layers!  More parameters means longer training, which means you are more likely to need a GPU to accelerate the training process.  Thankfully, Keras provides a handy estimate of the time that each epoch is likely to take; you can extrapolate this estimate to figure out how long it will take for your algorithm to train. \n",
    "\n",
    "We mention that the task of assigning breed to dogs from images is considered exceptionally challenging.  To see why, consider that *even a human* would have great difficulty in distinguishing between a Brittany and a Welsh Springer Spaniel.  \n",
    "\n",
    "Brittany | Welsh Springer Spaniel\n",
    "- | - \n",
    "<img src=\"images/Brittany_02625.jpg\" width=\"100\"> | <img src=\"images/Welsh_springer_spaniel_08203.jpg\" width=\"200\">\n",
    "\n",
    "It is not difficult to find other dog breed pairs with minimal inter-class variation (for instance, Curly-Coated Retrievers and American Water Spaniels).  \n",
    "\n",
    "Curly-Coated Retriever | American Water Spaniel\n",
    "- | -\n",
    "<img src=\"images/Curly-coated_retriever_03896.jpg\" width=\"200\"> | <img src=\"images/American_water_spaniel_00648.jpg\" width=\"200\">\n",
    "\n",
    "\n",
    "Likewise, recall that labradors come in yellow, chocolate, and black.  Your vision-based algorithm will have to conquer this high intra-class variation to determine how to classify all of these different shades as the same breed.  \n",
    "\n",
    "Yellow Labrador | Chocolate Labrador | Black Labrador\n",
    "- | -\n",
    "<img src=\"images/Labrador_retriever_06457.jpg\" width=\"150\"> | <img src=\"images/Labrador_retriever_06455.jpg\" width=\"240\"> | <img src=\"images/Labrador_retriever_06449.jpg\" width=\"220\">\n",
    "\n",
    "We also mention that random chance presents an exceptionally low bar: setting aside the fact that the classes are slightly imabalanced, a random guess will provide a correct answer roughly 1 in 133 times, which corresponds to an accuracy of less than 1%.  \n",
    "\n",
    "Remember that the practice is far ahead of the theory in deep learning.  Experiment with many different architectures, and trust your intuition.  And, of course, have fun! \n",
    "\n",
    "### Pre-process the Data\n",
    "\n",
    "We rescale the images by dividing every pixel in every image by 255."
   ]
  },
  {
   "cell_type": "code",
   "execution_count": 25,
   "metadata": {
    "collapsed": true
   },
   "outputs": [],
   "source": [
    "from PIL import ImageFile                            \n",
    "ImageFile.LOAD_TRUNCATED_IMAGES = True                 \n",
    "from keras.preprocessing.image import ImageDataGenerator\n",
    "\n",
    "#THIS CAUSES MY PC TO RUN OUT OF MEMORY\n",
    "# pre-process the data for Keras\n",
    "#train_tensors = paths_to_tensor(train_files).astype('float32')/255\n",
    "#valid_tensors = paths_to_tensor(valid_files).astype('float32')/255\n",
    "#test_tensors = paths_to_tensor(test_files).astype('float32')/255\n",
    "\n",
    "#THIS IS MORE COMMON:\n",
    "def train_generator(train_path='dogImages/train/', batch_size=64):\n",
    "    idg = ImageDataGenerator(rotation_range=15.,\n",
    "                             zoom_range=0.1,\n",
    "                             horizontal_flip=True,\n",
    "                             rescale=1/255.)\n",
    "    return idg.flow_from_directory(train_path, target_size=(224, 224),\n",
    "        batch_size=batch_size,\n",
    "        class_mode='categorical')\n",
    "\n",
    "def val_generator(train_path='dogImages/valid/', batch_size=64):\n",
    "    idg = ImageDataGenerator(rescale=1/255.)\n",
    "    return idg.flow_from_directory(train_path, target_size=(224, 224),\n",
    "        batch_size=batch_size,\n",
    "        class_mode='categorical')\n",
    "    \n",
    "def test_generator(train_path='dogImages/test/', batch_size=64):\n",
    "    idg = ImageDataGenerator(rescale=1/255.)\n",
    "    return idg.flow_from_directory(train_path, target_size=(224, 224),\n",
    "        batch_size=batch_size,\n",
    "        class_mode='categorical')\n",
    "    \n",
    "    \n",
    "    "
   ]
  },
  {
   "cell_type": "markdown",
   "metadata": {},
   "source": [
    "### (IMPLEMENTATION) Model Architecture\n",
    "\n",
    "Create a CNN to classify dog breed.  At the end of your code cell block, summarize the layers of your model by executing the line:\n",
    "    \n",
    "        model.summary()\n",
    "\n",
    "We have imported some Python modules to get you started, but feel free to import as many modules as you need.  If you end up getting stuck, here's a hint that specifies a model that trains relatively fast on CPU and attains >1% test accuracy in 5 epochs:\n",
    "\n",
    "![Sample CNN](images/sample_cnn.png)\n",
    "           \n",
    "__Question 4:__ Outline the steps you took to get to your final CNN architecture and your reasoning at each step.  If you chose to use the hinted architecture above, describe why you think that CNN architecture should work well for the image classification task.\n",
    "\n",
    "__Answer:__ "
   ]
  },
  {
   "cell_type": "markdown",
   "metadata": {},
   "source": [
    "I used a network similar to the one shown above.  The main differences is using relu activation, and doubling the number of filters at each layer.  I also added a 1x1 convolution with a depth of 3 to learn per pixel color preferences. "
   ]
  },
  {
   "cell_type": "code",
   "execution_count": 26,
   "metadata": {},
   "outputs": [
    {
     "name": "stdout",
     "output_type": "stream",
     "text": [
      "_________________________________________________________________\n",
      "Layer (type)                 Output Shape              Param #   \n",
      "=================================================================\n",
      "conv2d_5 (Conv2D)            (None, 224, 224, 3)       12        \n",
      "_________________________________________________________________\n",
      "conv2d_6 (Conv2D)            (None, 222, 222, 32)      896       \n",
      "_________________________________________________________________\n",
      "max_pooling2d_5 (MaxPooling2 (None, 111, 111, 32)      0         \n",
      "_________________________________________________________________\n",
      "conv2d_7 (Conv2D)            (None, 109, 109, 64)      18496     \n",
      "_________________________________________________________________\n",
      "max_pooling2d_6 (MaxPooling2 (None, 54, 54, 64)        0         \n",
      "_________________________________________________________________\n",
      "conv2d_8 (Conv2D)            (None, 52, 52, 128)       73856     \n",
      "_________________________________________________________________\n",
      "max_pooling2d_7 (MaxPooling2 (None, 26, 26, 128)       0         \n",
      "_________________________________________________________________\n",
      "global_average_pooling2d_2 ( (None, 128)               0         \n",
      "_________________________________________________________________\n",
      "dense_2 (Dense)              (None, 133)               17157     \n",
      "=================================================================\n",
      "Total params: 110,417.0\n",
      "Trainable params: 110,417.0\n",
      "Non-trainable params: 0.0\n",
      "_________________________________________________________________\n"
     ]
    }
   ],
   "source": [
    "from keras.layers import Conv2D, MaxPooling2D, GlobalAveragePooling2D\n",
    "from keras.layers import Dropout, Flatten, Dense, Lambda, Input\n",
    "from keras.models import Sequential\n",
    "\n",
    "model = Sequential()\n",
    "#1x1 of depth 3 to select colors\n",
    "model.add(Conv2D(3,1,input_shape=(224,224,3),activation='relu'))\n",
    "#this layer should learn primitive shapes\n",
    "model.add(Conv2D(32,3,activation='relu'))\n",
    "model.add(MaxPooling2D())\n",
    "#This layer should learn combinations, note the depth is increasing\n",
    "model.add(Conv2D(64,3,activation='relu'))\n",
    "model.add(MaxPooling2D())\n",
    "#This should have enough abstracted features for 133 classes, more filter depth\n",
    "model.add(Conv2D(128,3,activation='relu'))\n",
    "model.add(MaxPooling2D())\n",
    "#use GAP.  Could also be flatten, but turn it into a 1D, to connect to the Dense layer\n",
    "model.add(GlobalAveragePooling2D())\n",
    "#final output\n",
    "model.add(Dense(133, activation='softmax'))\n",
    "\n",
    "model.summary()"
   ]
  },
  {
   "cell_type": "markdown",
   "metadata": {},
   "source": [
    "### Compile the Model"
   ]
  },
  {
   "cell_type": "code",
   "execution_count": 27,
   "metadata": {
    "collapsed": true
   },
   "outputs": [],
   "source": [
    "model.compile(optimizer='rmsprop', loss='categorical_crossentropy', metrics=['accuracy'])"
   ]
  },
  {
   "cell_type": "markdown",
   "metadata": {},
   "source": [
    "### (IMPLEMENTATION) Train the Model\n",
    "\n",
    "Train your model in the code cell below.  Use model checkpointing to save the model that attains the best validation loss.\n",
    "\n",
    "You are welcome to [augment the training data](https://blog.keras.io/building-powerful-image-classification-models-using-very-little-data.html), but this is not a requirement. "
   ]
  },
  {
   "cell_type": "code",
   "execution_count": 28,
   "metadata": {},
   "outputs": [
    {
     "name": "stdout",
     "output_type": "stream",
     "text": [
      "Found 6680 images belonging to 133 classes.\n",
      "Found 835 images belonging to 133 classes.\n",
      "Epoch 1/20\n",
      " 99/100 [============================>.] - ETA: 0s - loss: 4.8838 - acc: 0.0088Epoch 00000: val_loss improved from inf to 4.86449, saving model to saved_models/weights.best.from_scratch.hdf5\n",
      "100/100 [==============================] - 78s - loss: 4.8836 - acc: 0.0088 - val_loss: 4.8645 - val_acc: 0.0141\n",
      "Epoch 2/20\n",
      " 99/100 [============================>.] - ETA: 0s - loss: 4.8701 - acc: 0.0109Epoch 00001: val_loss did not improve\n",
      "100/100 [==============================] - 71s - loss: 4.8702 - acc: 0.0108 - val_loss: 4.8681 - val_acc: 0.0121\n",
      "Epoch 3/20\n",
      " 99/100 [============================>.] - ETA: 0s - loss: 4.8608 - acc: 0.0110Epoch 00002: val_loss improved from 4.86449 to 4.85753, saving model to saved_models/weights.best.from_scratch.hdf5\n",
      "100/100 [==============================] - 70s - loss: 4.8611 - acc: 0.0109 - val_loss: 4.8575 - val_acc: 0.0121\n",
      "Epoch 4/20\n",
      " 99/100 [============================>.] - ETA: 0s - loss: 4.8523 - acc: 0.0129Epoch 00003: val_loss improved from 4.85753 to 4.84732, saving model to saved_models/weights.best.from_scratch.hdf5\n",
      "100/100 [==============================] - 69s - loss: 4.8521 - acc: 0.0128 - val_loss: 4.8473 - val_acc: 0.0155\n",
      "Epoch 5/20\n",
      " 99/100 [============================>.] - ETA: 0s - loss: 4.8377 - acc: 0.0142Epoch 00004: val_loss improved from 4.84732 to 4.82424, saving model to saved_models/weights.best.from_scratch.hdf5\n",
      "100/100 [==============================] - 70s - loss: 4.8374 - acc: 0.0145 - val_loss: 4.8242 - val_acc: 0.0141\n",
      "Epoch 6/20\n",
      " 99/100 [============================>.] - ETA: 0s - loss: 4.8230 - acc: 0.0170Epoch 00005: val_loss improved from 4.82424 to 4.82091, saving model to saved_models/weights.best.from_scratch.hdf5\n",
      "100/100 [==============================] - 73s - loss: 4.8227 - acc: 0.0170 - val_loss: 4.8209 - val_acc: 0.0207\n",
      "Epoch 7/20\n",
      " 99/100 [============================>.] - ETA: 0s - loss: 4.8160 - acc: 0.0174Epoch 00006: val_loss did not improve\n",
      "100/100 [==============================] - 72s - loss: 4.8162 - acc: 0.0172 - val_loss: 4.8302 - val_acc: 0.0138\n",
      "Epoch 8/20\n",
      " 99/100 [============================>.] - ETA: 0s - loss: 4.8003 - acc: 0.0202Epoch 00007: val_loss improved from 4.82091 to 4.79404, saving model to saved_models/weights.best.from_scratch.hdf5\n",
      "100/100 [==============================] - 72s - loss: 4.8009 - acc: 0.0200 - val_loss: 4.7940 - val_acc: 0.0225\n",
      "Epoch 9/20\n",
      " 99/100 [============================>.] - ETA: 0s - loss: 4.7812 - acc: 0.0203Epoch 00008: val_loss did not improve\n",
      "100/100 [==============================] - 72s - loss: 4.7812 - acc: 0.0203 - val_loss: 4.8197 - val_acc: 0.0207\n",
      "Epoch 10/20\n",
      " 99/100 [============================>.] - ETA: 0s - loss: 4.7801 - acc: 0.0221Epoch 00009: val_loss improved from 4.79404 to 4.78840, saving model to saved_models/weights.best.from_scratch.hdf5\n",
      "100/100 [==============================] - 77s - loss: 4.7786 - acc: 0.0223 - val_loss: 4.7884 - val_acc: 0.0156\n",
      "Epoch 11/20\n",
      " 99/100 [============================>.] - ETA: 0s - loss: 4.7613 - acc: 0.0230Epoch 00010: val_loss improved from 4.78840 to 4.75623, saving model to saved_models/weights.best.from_scratch.hdf5\n",
      "100/100 [==============================] - 70s - loss: 4.7618 - acc: 0.0231 - val_loss: 4.7562 - val_acc: 0.0242\n",
      "Epoch 12/20\n",
      " 99/100 [============================>.] - ETA: 0s - loss: 4.7151 - acc: 0.0283Epoch 00011: val_loss did not improve\n",
      "100/100 [==============================] - 69s - loss: 4.7142 - acc: 0.0286 - val_loss: 4.7735 - val_acc: 0.0225\n",
      "Epoch 13/20\n",
      " 99/100 [============================>.] - ETA: 0s - loss: 4.6737 - acc: 0.0317Epoch 00012: val_loss improved from 4.75623 to 4.72483, saving model to saved_models/weights.best.from_scratch.hdf5\n",
      "100/100 [==============================] - 70s - loss: 4.6742 - acc: 0.0314 - val_loss: 4.7248 - val_acc: 0.0259\n",
      "Epoch 14/20\n",
      " 99/100 [============================>.] - ETA: 0s - loss: 4.6443 - acc: 0.0355Epoch 00013: val_loss improved from 4.72483 to 4.66537, saving model to saved_models/weights.best.from_scratch.hdf5\n",
      "100/100 [==============================] - 70s - loss: 4.6431 - acc: 0.0353 - val_loss: 4.6654 - val_acc: 0.0375\n",
      "Epoch 15/20\n",
      " 99/100 [============================>.] - ETA: 0s - loss: 4.6000 - acc: 0.0380Epoch 00014: val_loss improved from 4.66537 to 4.63247, saving model to saved_models/weights.best.from_scratch.hdf5\n",
      "100/100 [==============================] - 69s - loss: 4.5998 - acc: 0.0385 - val_loss: 4.6325 - val_acc: 0.0391\n",
      "Epoch 16/20\n",
      " 99/100 [============================>.] - ETA: 0s - loss: 4.5692 - acc: 0.0445Epoch 00015: val_loss improved from 4.63247 to 4.59688, saving model to saved_models/weights.best.from_scratch.hdf5\n",
      "100/100 [==============================] - 71s - loss: 4.5683 - acc: 0.0442 - val_loss: 4.5969 - val_acc: 0.0345\n",
      "Epoch 17/20\n",
      " 99/100 [============================>.] - ETA: 0s - loss: 4.5281 - acc: 0.0469Epoch 00016: val_loss did not improve\n",
      "100/100 [==============================] - 68s - loss: 4.5265 - acc: 0.0470 - val_loss: 4.6343 - val_acc: 0.0380\n",
      "Epoch 18/20\n",
      " 99/100 [============================>.] - ETA: 0s - loss: 4.5171 - acc: 0.0469Epoch 00017: val_loss did not improve\n",
      "100/100 [==============================] - 70s - loss: 4.5157 - acc: 0.0472 - val_loss: 4.6470 - val_acc: 0.0397\n",
      "Epoch 19/20\n",
      " 99/100 [============================>.] - ETA: 0s - loss: 4.4860 - acc: 0.0472Epoch 00018: val_loss improved from 4.59688 to 4.58351, saving model to saved_models/weights.best.from_scratch.hdf5\n",
      "100/100 [==============================] - 69s - loss: 4.4860 - acc: 0.0472 - val_loss: 4.5835 - val_acc: 0.0484\n",
      "Epoch 20/20\n",
      " 99/100 [============================>.] - ETA: 0s - loss: 4.4583 - acc: 0.0517Epoch 00019: val_loss improved from 4.58351 to 4.55134, saving model to saved_models/weights.best.from_scratch.hdf5\n",
      "100/100 [==============================] - 70s - loss: 4.4560 - acc: 0.0518 - val_loss: 4.5513 - val_acc: 0.0484\n"
     ]
    },
    {
     "data": {
      "text/plain": [
       "<keras.callbacks.History at 0x7f754c3d6be0>"
      ]
     },
     "execution_count": 28,
     "metadata": {},
     "output_type": "execute_result"
    }
   ],
   "source": [
    "from keras.callbacks import ModelCheckpoint  \n",
    "\n",
    "### TODO: specify the number of epochs that you would like to use to train the model.\n",
    "\n",
    "epochs = 20\n",
    "batches = 100\n",
    "\n",
    "### Do NOT modify the code below this line.\n",
    "\n",
    "checkpointer = ModelCheckpoint(filepath='saved_models/weights.best.from_scratch.hdf5', \n",
    "                               verbose=1, save_best_only=True)\n",
    "\n",
    "#model.fit(train_tensors, train_targets, \n",
    "#          validation_data=(valid_tensors, valid_targets),\n",
    "#          epochs=epochs, batch_size=20, callbacks=[checkpointer], verbose=1)\n",
    "\n",
    "#Needed to fit to generator due to memory restriction of loading entire dataset\n",
    "train_gen = train_generator()\n",
    "val_gen = val_generator()\n",
    "model.fit_generator(train_gen,steps_per_epoch=batches, epochs=epochs,validation_data=val_gen,validation_steps=10,callbacks=[checkpointer])"
   ]
  },
  {
   "cell_type": "markdown",
   "metadata": {},
   "source": [
    "### Load the Model with the Best Validation Loss"
   ]
  },
  {
   "cell_type": "code",
   "execution_count": 29,
   "metadata": {
    "collapsed": true
   },
   "outputs": [],
   "source": [
    "model.load_weights('saved_models/weights.best.from_scratch.hdf5')"
   ]
  },
  {
   "cell_type": "markdown",
   "metadata": {},
   "source": [
    "### Test the Model\n",
    "\n",
    "Try out your model on the test dataset of dog images.  Ensure that your test accuracy is greater than 1%."
   ]
  },
  {
   "cell_type": "code",
   "execution_count": 30,
   "metadata": {},
   "outputs": [
    {
     "name": "stdout",
     "output_type": "stream",
     "text": [
      "Found 836 images belonging to 133 classes.\n"
     ]
    }
   ],
   "source": [
    "#Refactored for generator due to memory limitations\n",
    "\n",
    "# get index of predicted dog breed for each image in test set\n",
    "#dog_breed_predictions = [np.argmax(model.predict(np.expand_dims(tensor, axis=0))) for tensor in test_tensors]\n",
    "\n",
    "#run predictions with generator\n",
    "test_gen = test_generator()\n",
    "test_results = model.evaluate_generator(test_gen, steps = 15)\n",
    "\n",
    "# report test accuracy\n",
    "#test_accuracy = 100*np.sum(np.array(dog_breed_predictions)==np.argmax(test_targets, axis=1))/len(dog_breed_predictions)\n",
    "#print('Test accuracy: %.4f%%' % test_accuracy)\n"
   ]
  },
  {
   "cell_type": "code",
   "execution_count": 31,
   "metadata": {},
   "outputs": [
    {
     "name": "stdout",
     "output_type": "stream",
     "text": [
      "Test Accuracy:  5.33333333333 %\n"
     ]
    }
   ],
   "source": [
    "print('Test Accuracy: ', test_results[1]*100, '%')"
   ]
  },
  {
   "cell_type": "markdown",
   "metadata": {},
   "source": [
    "---\n",
    "<a id='step4'></a>\n",
    "## Step 4: Use a CNN to Classify Dog Breeds\n",
    "\n",
    "To reduce training time without sacrificing accuracy, we show you how to train a CNN using transfer learning.  In the following step, you will get a chance to use transfer learning to train your own CNN.\n",
    "\n",
    "### Obtain Bottleneck Features"
   ]
  },
  {
   "cell_type": "code",
   "execution_count": 20,
   "metadata": {
    "collapsed": true
   },
   "outputs": [],
   "source": [
    "bottleneck_features = np.load('bottleneck_features/DogVGG16Data.npz')\n",
    "train_VGG16 = bottleneck_features['train']\n",
    "valid_VGG16 = bottleneck_features['valid']\n",
    "test_VGG16 = bottleneck_features['test']"
   ]
  },
  {
   "cell_type": "markdown",
   "metadata": {},
   "source": [
    "### Model Architecture\n",
    "\n",
    "The model uses the the pre-trained VGG-16 model as a fixed feature extractor, where the last convolutional output of VGG-16 is fed as input to our model.  We only add a global average pooling layer and a fully connected layer, where the latter contains one node for each dog category and is equipped with a softmax."
   ]
  },
  {
   "cell_type": "code",
   "execution_count": 21,
   "metadata": {},
   "outputs": [
    {
     "name": "stdout",
     "output_type": "stream",
     "text": [
      "_________________________________________________________________\n",
      "Layer (type)                 Output Shape              Param #   \n",
      "=================================================================\n",
      "global_average_pooling2d_2 ( (None, 512)               0         \n",
      "_________________________________________________________________\n",
      "dense_2 (Dense)              (None, 133)               68229     \n",
      "=================================================================\n",
      "Total params: 68,229.0\n",
      "Trainable params: 68,229.0\n",
      "Non-trainable params: 0.0\n",
      "_________________________________________________________________\n"
     ]
    }
   ],
   "source": [
    "VGG16_model = Sequential()\n",
    "VGG16_model.add(GlobalAveragePooling2D(input_shape=train_VGG16.shape[1:]))\n",
    "VGG16_model.add(Dense(133, activation='softmax'))\n",
    "\n",
    "VGG16_model.summary()"
   ]
  },
  {
   "cell_type": "markdown",
   "metadata": {},
   "source": [
    "### Compile the Model"
   ]
  },
  {
   "cell_type": "code",
   "execution_count": 22,
   "metadata": {
    "collapsed": true
   },
   "outputs": [],
   "source": [
    "VGG16_model.compile(loss='categorical_crossentropy', optimizer='rmsprop', metrics=['accuracy'])"
   ]
  },
  {
   "cell_type": "markdown",
   "metadata": {},
   "source": [
    "### Train the Model"
   ]
  },
  {
   "cell_type": "code",
   "execution_count": 23,
   "metadata": {},
   "outputs": [
    {
     "name": "stdout",
     "output_type": "stream",
     "text": [
      "Train on 6680 samples, validate on 835 samples\n",
      "Epoch 1/20\n",
      "6640/6680 [============================>.] - ETA: 0s - loss: 11.1942 - acc: 0.1556Epoch 00000: val_loss improved from inf to 9.50445, saving model to saved_models/weights.best.VGG16.hdf5\n",
      "6680/6680 [==============================] - 1s - loss: 11.1779 - acc: 0.1557 - val_loss: 9.5044 - val_acc: 0.2766\n",
      "Epoch 2/20\n",
      "6560/6680 [============================>.] - ETA: 0s - loss: 8.7820 - acc: 0.3427Epoch 00001: val_loss improved from 9.50445 to 8.80364, saving model to saved_models/weights.best.VGG16.hdf5\n",
      "6680/6680 [==============================] - 1s - loss: 8.7748 - acc: 0.3437 - val_loss: 8.8036 - val_acc: 0.3473\n",
      "Epoch 3/20\n",
      "6560/6680 [============================>.] - ETA: 0s - loss: 8.1776 - acc: 0.4142Epoch 00002: val_loss improved from 8.80364 to 8.49262, saving model to saved_models/weights.best.VGG16.hdf5\n",
      "6680/6680 [==============================] - 1s - loss: 8.1866 - acc: 0.4142 - val_loss: 8.4926 - val_acc: 0.3689\n",
      "Epoch 4/20\n",
      "6540/6680 [============================>.] - ETA: 0s - loss: 7.8886 - acc: 0.4498Epoch 00003: val_loss improved from 8.49262 to 8.36844, saving model to saved_models/weights.best.VGG16.hdf5\n",
      "6680/6680 [==============================] - 1s - loss: 7.8706 - acc: 0.4507 - val_loss: 8.3684 - val_acc: 0.3784\n",
      "Epoch 5/20\n",
      "6440/6680 [===========================>..] - ETA: 0s - loss: 7.6358 - acc: 0.4800Epoch 00004: val_loss improved from 8.36844 to 8.26741, saving model to saved_models/weights.best.VGG16.hdf5\n",
      "6680/6680 [==============================] - 1s - loss: 7.6487 - acc: 0.4789 - val_loss: 8.2674 - val_acc: 0.3988\n",
      "Epoch 6/20\n",
      "6580/6680 [============================>.] - ETA: 0s - loss: 7.5738 - acc: 0.4956Epoch 00005: val_loss improved from 8.26741 to 8.24046, saving model to saved_models/weights.best.VGG16.hdf5\n",
      "6680/6680 [==============================] - 1s - loss: 7.5599 - acc: 0.4963 - val_loss: 8.2405 - val_acc: 0.4000\n",
      "Epoch 7/20\n",
      "6420/6680 [===========================>..] - ETA: 0s - loss: 7.4268 - acc: 0.5076Epoch 00006: val_loss improved from 8.24046 to 8.18613, saving model to saved_models/weights.best.VGG16.hdf5\n",
      "6680/6680 [==============================] - 1s - loss: 7.4206 - acc: 0.5079 - val_loss: 8.1861 - val_acc: 0.3952\n",
      "Epoch 8/20\n",
      "6620/6680 [============================>.] - ETA: 0s - loss: 7.3246 - acc: 0.5183Epoch 00007: val_loss improved from 8.18613 to 8.05571, saving model to saved_models/weights.best.VGG16.hdf5\n",
      "6680/6680 [==============================] - 1s - loss: 7.3226 - acc: 0.5184 - val_loss: 8.0557 - val_acc: 0.4132\n",
      "Epoch 9/20\n",
      "6580/6680 [============================>.] - ETA: 0s - loss: 7.2076 - acc: 0.5284Epoch 00008: val_loss improved from 8.05571 to 8.04670, saving model to saved_models/weights.best.VGG16.hdf5\n",
      "6680/6680 [==============================] - 1s - loss: 7.2180 - acc: 0.5277 - val_loss: 8.0467 - val_acc: 0.4084\n",
      "Epoch 10/20\n",
      "6360/6680 [===========================>..] - ETA: 0s - loss: 7.1484 - acc: 0.5403Epoch 00009: val_loss improved from 8.04670 to 8.01038, saving model to saved_models/weights.best.VGG16.hdf5\n",
      "6680/6680 [==============================] - 1s - loss: 7.1424 - acc: 0.5407 - val_loss: 8.0104 - val_acc: 0.4156\n",
      "Epoch 11/20\n",
      "6600/6680 [============================>.] - ETA: 0s - loss: 7.1226 - acc: 0.5448Epoch 00010: val_loss improved from 8.01038 to 7.93985, saving model to saved_models/weights.best.VGG16.hdf5\n",
      "6680/6680 [==============================] - 1s - loss: 7.1101 - acc: 0.5457 - val_loss: 7.9398 - val_acc: 0.4287\n",
      "Epoch 12/20\n",
      "6560/6680 [============================>.] - ETA: 0s - loss: 6.9963 - acc: 0.5476Epoch 00011: val_loss improved from 7.93985 to 7.75926, saving model to saved_models/weights.best.VGG16.hdf5\n",
      "6680/6680 [==============================] - 1s - loss: 7.0027 - acc: 0.5469 - val_loss: 7.7593 - val_acc: 0.4287\n",
      "Epoch 13/20\n",
      "6620/6680 [============================>.] - ETA: 0s - loss: 6.8618 - acc: 0.5586Epoch 00012: val_loss improved from 7.75926 to 7.67972, saving model to saved_models/weights.best.VGG16.hdf5\n",
      "6680/6680 [==============================] - 1s - loss: 6.8618 - acc: 0.5584 - val_loss: 7.6797 - val_acc: 0.4455\n",
      "Epoch 14/20\n",
      "6480/6680 [============================>.] - ETA: 0s - loss: 6.7608 - acc: 0.5674Epoch 00013: val_loss improved from 7.67972 to 7.63904, saving model to saved_models/weights.best.VGG16.hdf5\n",
      "6680/6680 [==============================] - 1s - loss: 6.7706 - acc: 0.5663 - val_loss: 7.6390 - val_acc: 0.4383\n",
      "Epoch 15/20\n",
      "6660/6680 [============================>.] - ETA: 0s - loss: 6.6957 - acc: 0.5740Epoch 00014: val_loss improved from 7.63904 to 7.61490, saving model to saved_models/weights.best.VGG16.hdf5\n",
      "6680/6680 [==============================] - 1s - loss: 6.6949 - acc: 0.5741 - val_loss: 7.6149 - val_acc: 0.4491\n",
      "Epoch 16/20\n",
      "6560/6680 [============================>.] - ETA: 0s - loss: 6.6414 - acc: 0.5793Epoch 00015: val_loss improved from 7.61490 to 7.50891, saving model to saved_models/weights.best.VGG16.hdf5\n",
      "6680/6680 [==============================] - 1s - loss: 6.6559 - acc: 0.5783 - val_loss: 7.5089 - val_acc: 0.4539\n",
      "Epoch 17/20\n",
      "6580/6680 [============================>.] - ETA: 0s - loss: 6.6272 - acc: 0.5815Epoch 00016: val_loss did not improve\n",
      "6680/6680 [==============================] - 1s - loss: 6.6342 - acc: 0.5811 - val_loss: 7.5316 - val_acc: 0.4551\n",
      "Epoch 18/20\n",
      "6460/6680 [============================>.] - ETA: 0s - loss: 6.5758 - acc: 0.5836Epoch 00017: val_loss improved from 7.50891 to 7.42155, saving model to saved_models/weights.best.VGG16.hdf5\n",
      "6680/6680 [==============================] - 1s - loss: 6.5542 - acc: 0.5850 - val_loss: 7.4215 - val_acc: 0.4563\n",
      "Epoch 19/20\n",
      "6440/6680 [===========================>..] - ETA: 0s - loss: 6.4167 - acc: 0.5935Epoch 00018: val_loss improved from 7.42155 to 7.38333, saving model to saved_models/weights.best.VGG16.hdf5\n",
      "6680/6680 [==============================] - 1s - loss: 6.4603 - acc: 0.5903 - val_loss: 7.3833 - val_acc: 0.4731\n",
      "Epoch 20/20\n",
      "6580/6680 [============================>.] - ETA: 0s - loss: 6.3537 - acc: 0.5974Epoch 00019: val_loss improved from 7.38333 to 7.24632, saving model to saved_models/weights.best.VGG16.hdf5\n",
      "6680/6680 [==============================] - 1s - loss: 6.3608 - acc: 0.5966 - val_loss: 7.2463 - val_acc: 0.4743\n"
     ]
    },
    {
     "data": {
      "text/plain": [
       "<keras.callbacks.History at 0x7f3ce07bec50>"
      ]
     },
     "execution_count": 23,
     "metadata": {},
     "output_type": "execute_result"
    }
   ],
   "source": [
    "from keras.callbacks import ModelCheckpoint  \n",
    "\n",
    "checkpointer = ModelCheckpoint(filepath='saved_models/weights.best.VGG16.hdf5', \n",
    "                               verbose=1, save_best_only=True)\n",
    "\n",
    "VGG16_model.fit(train_VGG16, train_targets, \n",
    "          validation_data=(valid_VGG16, valid_targets),\n",
    "          epochs=20, batch_size=20, callbacks=[checkpointer], verbose=1)"
   ]
  },
  {
   "cell_type": "markdown",
   "metadata": {},
   "source": [
    "### Load the Model with the Best Validation Loss"
   ]
  },
  {
   "cell_type": "code",
   "execution_count": 38,
   "metadata": {
    "collapsed": true
   },
   "outputs": [],
   "source": [
    "VGG16_model.load_weights('saved_models/weights.best.VGG16.hdf5')"
   ]
  },
  {
   "cell_type": "markdown",
   "metadata": {},
   "source": [
    "### Test the Model\n",
    "\n",
    "Now, we can use the CNN to test how well it identifies breed within our test dataset of dog images.  We print the test accuracy below."
   ]
  },
  {
   "cell_type": "code",
   "execution_count": 39,
   "metadata": {},
   "outputs": [
    {
     "name": "stdout",
     "output_type": "stream",
     "text": [
      "Test accuracy: 45.4545%\n"
     ]
    }
   ],
   "source": [
    "# get index of predicted dog breed for each image in test set\n",
    "VGG16_predictions = [np.argmax(VGG16_model.predict(np.expand_dims(feature, axis=0))) for feature in test_VGG16]\n",
    "\n",
    "# report test accuracy\n",
    "test_accuracy = 100*np.sum(np.array(VGG16_predictions)==np.argmax(test_targets, axis=1))/len(VGG16_predictions)\n",
    "print('Test accuracy: %.4f%%' % test_accuracy)"
   ]
  },
  {
   "cell_type": "markdown",
   "metadata": {},
   "source": [
    "### Predict Dog Breed with the Model"
   ]
  },
  {
   "cell_type": "code",
   "execution_count": 24,
   "metadata": {
    "collapsed": true
   },
   "outputs": [],
   "source": [
    "from extract_bottleneck_features import *\n",
    "\n",
    "def VGG16_predict_breed(img_path):\n",
    "    # extract bottleneck features\n",
    "    bottleneck_feature = extract_VGG16(path_to_tensor(img_path))\n",
    "    # obtain predicted vector\n",
    "    predicted_vector = VGG16_model.predict(bottleneck_feature)\n",
    "    # return dog breed that is predicted by the model\n",
    "    return dog_names[np.argmax(predicted_vector)]"
   ]
  },
  {
   "cell_type": "markdown",
   "metadata": {},
   "source": [
    "---\n",
    "<a id='step5'></a>\n",
    "## Step 5: Create a CNN to Classify Dog Breeds (using Transfer Learning)\n",
    "\n",
    "You will now use transfer learning to create a CNN that can identify dog breed from images.  Your CNN must attain at least 60% accuracy on the test set.\n",
    "\n",
    "In Step 4, we used transfer learning to create a CNN using VGG-16 bottleneck features.  In this section, you must use the bottleneck features from a different pre-trained model.  To make things easier for you, we have pre-computed the features for all of the networks that are currently available in Keras:\n",
    "- [VGG-19](https://s3-us-west-1.amazonaws.com/udacity-aind/dog-project/DogVGG19Data.npz) bottleneck features\n",
    "- [ResNet-50](https://s3-us-west-1.amazonaws.com/udacity-aind/dog-project/DogResnet50Data.npz) bottleneck features\n",
    "- [Inception](https://s3-us-west-1.amazonaws.com/udacity-aind/dog-project/DogInceptionV3Data.npz) bottleneck features\n",
    "- [Xception](https://s3-us-west-1.amazonaws.com/udacity-aind/dog-project/DogXceptionData.npz) bottleneck features\n",
    "\n",
    "The files are encoded as such:\n",
    "\n",
    "    Dog{network}Data.npz\n",
    "    \n",
    "where `{network}`, in the above filename, can be one of `VGG19`, `Resnet50`, `InceptionV3`, or `Xception`.  Pick one of the above architectures, download the corresponding bottleneck features, and store the downloaded file in the `bottleneck_features/` folder in the repository.\n",
    "\n",
    "### (IMPLEMENTATION) Obtain Bottleneck Features\n",
    "\n",
    "In the code block below, extract the bottleneck features corresponding to the train, test, and validation sets by running the following:\n",
    "\n",
    "    bottleneck_features = np.load('bottleneck_features/Dog{network}Data.npz')\n",
    "    train_{network} = bottleneck_features['train']\n",
    "    valid_{network} = bottleneck_features['valid']\n",
    "    test_{network} = bottleneck_features['test']"
   ]
  },
  {
   "cell_type": "code",
   "execution_count": 25,
   "metadata": {
    "collapsed": true
   },
   "outputs": [],
   "source": [
    "### TODO: Obtain bottleneck features from another pre-trained CNN.\n",
    "bottleneck_features = np.load('bottleneck_features/DogXceptionData.npz')\n",
    "train_xception = bottleneck_features['train']\n",
    "valid_xception = bottleneck_features['valid']\n",
    "test_xception = bottleneck_features['test']"
   ]
  },
  {
   "cell_type": "markdown",
   "metadata": {},
   "source": [
    "### (IMPLEMENTATION) Model Architecture\n",
    "\n",
    "Create a CNN to classify dog breed.  At the end of your code cell block, summarize the layers of your model by executing the line:\n",
    "    \n",
    "        <your model's name>.summary()\n",
    "   \n",
    "__Question 5:__ Outline the steps you took to get to your final CNN architecture and your reasoning at each step.  Describe why you think the architecture is suitable for the current problem.\n",
    "\n",
    "__Answer:__ \n",
    "\n"
   ]
  },
  {
   "cell_type": "markdown",
   "metadata": {},
   "source": [
    "I used the vanilla xception model.  I've done some work with CNN before, and Inception/Xception is pretty good at generalizing and has a lot of space to learn classes.  I used a GAP instead of flatten to hopefully retain as much data as possible from the last layer of xception while flattening.  I didn't need to do anything else, because it got up to over 80% accurate in the 20 epochs."
   ]
  },
  {
   "cell_type": "code",
   "execution_count": 26,
   "metadata": {},
   "outputs": [
    {
     "name": "stdout",
     "output_type": "stream",
     "text": [
      "_________________________________________________________________\n",
      "Layer (type)                 Output Shape              Param #   \n",
      "=================================================================\n",
      "global_average_pooling2d_3 ( (None, 2048)              0         \n",
      "_________________________________________________________________\n",
      "dense_3 (Dense)              (None, 133)               272517    \n",
      "=================================================================\n",
      "Total params: 272,517.0\n",
      "Trainable params: 272,517.0\n",
      "Non-trainable params: 0.0\n",
      "_________________________________________________________________\n"
     ]
    }
   ],
   "source": [
    "x_model = Sequential()\n",
    "x_model.add(GlobalAveragePooling2D(input_shape=train_xception.shape[1:]))\n",
    "x_model.add(Dense(133, activation='softmax'))\n",
    "\n",
    "x_model.summary()"
   ]
  },
  {
   "cell_type": "markdown",
   "metadata": {},
   "source": [
    "### (IMPLEMENTATION) Compile the Model"
   ]
  },
  {
   "cell_type": "code",
   "execution_count": 27,
   "metadata": {
    "collapsed": true
   },
   "outputs": [],
   "source": [
    "### TODO: Compile the model.\n",
    "x_model.compile(loss='categorical_crossentropy', optimizer='adam', metrics=['accuracy'])"
   ]
  },
  {
   "cell_type": "markdown",
   "metadata": {},
   "source": [
    "### (IMPLEMENTATION) Train the Model\n",
    "\n",
    "Train your model in the code cell below.  Use model checkpointing to save the model that attains the best validation loss.  \n",
    "\n",
    "You are welcome to [augment the training data](https://blog.keras.io/building-powerful-image-classification-models-using-very-little-data.html), but this is not a requirement. "
   ]
  },
  {
   "cell_type": "code",
   "execution_count": 46,
   "metadata": {},
   "outputs": [
    {
     "name": "stdout",
     "output_type": "stream",
     "text": [
      "Train on 6680 samples, validate on 835 samples\n",
      "Epoch 1/20\n",
      "6640/6680 [============================>.] - ETA: 0s - loss: 0.0098 - acc: 0.9983Epoch 00000: val_loss improved from inf to 0.55247, saving model to saved_models/weights.best.xception.hdf5\n",
      "6680/6680 [==============================] - 1s - loss: 0.0098 - acc: 0.9984 - val_loss: 0.5525 - val_acc: 0.8575\n",
      "Epoch 2/20\n",
      "6520/6680 [============================>.] - ETA: 0s - loss: 0.0076 - acc: 0.9988Epoch 00001: val_loss did not improve\n",
      "6680/6680 [==============================] - 1s - loss: 0.0077 - acc: 0.9988 - val_loss: 0.5612 - val_acc: 0.8575\n",
      "Epoch 3/20\n",
      "6600/6680 [============================>.] - ETA: 0s - loss: 0.0077 - acc: 0.9983Epoch 00002: val_loss did not improve\n",
      "6680/6680 [==============================] - 1s - loss: 0.0082 - acc: 0.9981 - val_loss: 0.5659 - val_acc: 0.8503\n",
      "Epoch 4/20\n",
      "6540/6680 [============================>.] - ETA: 0s - loss: 0.0082 - acc: 0.9976Epoch 00003: val_loss did not improve\n",
      "6680/6680 [==============================] - 1s - loss: 0.0081 - acc: 0.9976 - val_loss: 0.5811 - val_acc: 0.8515\n",
      "Epoch 5/20\n",
      "6420/6680 [===========================>..] - ETA: 0s - loss: 0.0081 - acc: 0.9978Epoch 00004: val_loss did not improve\n",
      "6680/6680 [==============================] - 1s - loss: 0.0084 - acc: 0.9978 - val_loss: 0.5810 - val_acc: 0.8611\n",
      "Epoch 6/20\n",
      "6540/6680 [============================>.] - ETA: 0s - loss: 0.0065 - acc: 0.9982Epoch 00005: val_loss did not improve\n",
      "6680/6680 [==============================] - 1s - loss: 0.0064 - acc: 0.9982 - val_loss: 0.6271 - val_acc: 0.8491\n",
      "Epoch 7/20\n",
      "6580/6680 [============================>.] - ETA: 0s - loss: 0.0058 - acc: 0.9988Epoch 00006: val_loss did not improve\n",
      "6680/6680 [==============================] - 1s - loss: 0.0058 - acc: 0.9988 - val_loss: 0.6107 - val_acc: 0.8575\n",
      "Epoch 8/20\n",
      "6480/6680 [============================>.] - ETA: 0s - loss: 0.0064 - acc: 0.9986Epoch 00007: val_loss did not improve\n",
      "6680/6680 [==============================] - 1s - loss: 0.0066 - acc: 0.9985 - val_loss: 0.6082 - val_acc: 0.8527\n",
      "Epoch 9/20\n",
      "6460/6680 [============================>.] - ETA: 0s - loss: 0.0070 - acc: 0.9983Epoch 00008: val_loss did not improve\n",
      "6680/6680 [==============================] - 1s - loss: 0.0069 - acc: 0.9984 - val_loss: 0.5964 - val_acc: 0.8635\n",
      "Epoch 10/20\n",
      "6660/6680 [============================>.] - ETA: 0s - loss: 0.0060 - acc: 0.9985Epoch 00009: val_loss did not improve\n",
      "6680/6680 [==============================] - 1s - loss: 0.0059 - acc: 0.9985 - val_loss: 0.6247 - val_acc: 0.8587\n",
      "Epoch 11/20\n",
      "6460/6680 [============================>.] - ETA: 0s - loss: 0.0070 - acc: 0.9981Epoch 00010: val_loss did not improve\n",
      "6680/6680 [==============================] - 1s - loss: 0.0069 - acc: 0.9982 - val_loss: 0.6258 - val_acc: 0.8539\n",
      "Epoch 12/20\n",
      "6620/6680 [============================>.] - ETA: 0s - loss: 0.0046 - acc: 0.9989Epoch 00011: val_loss did not improve\n",
      "6680/6680 [==============================] - 1s - loss: 0.0046 - acc: 0.9990 - val_loss: 0.6788 - val_acc: 0.8491\n",
      "Epoch 13/20\n",
      "6560/6680 [============================>.] - ETA: 0s - loss: 0.0053 - acc: 0.9986Epoch 00012: val_loss did not improve\n",
      "6680/6680 [==============================] - 1s - loss: 0.0052 - acc: 0.9987 - val_loss: 0.6599 - val_acc: 0.8563\n",
      "Epoch 14/20\n",
      "6620/6680 [============================>.] - ETA: 0s - loss: 0.0069 - acc: 0.9983Epoch 00013: val_loss did not improve\n",
      "6680/6680 [==============================] - 1s - loss: 0.0069 - acc: 0.9984 - val_loss: 0.6382 - val_acc: 0.8515\n",
      "Epoch 15/20\n",
      "6460/6680 [============================>.] - ETA: 0s - loss: 0.0065 - acc: 0.9980Epoch 00014: val_loss did not improve\n",
      "6680/6680 [==============================] - 1s - loss: 0.0065 - acc: 0.9981 - val_loss: 0.7066 - val_acc: 0.8527\n",
      "Epoch 16/20\n",
      "6500/6680 [============================>.] - ETA: 0s - loss: 0.0053 - acc: 0.9991Epoch 00015: val_loss did not improve\n",
      "6680/6680 [==============================] - 1s - loss: 0.0060 - acc: 0.9988 - val_loss: 0.7196 - val_acc: 0.8539\n",
      "Epoch 17/20\n",
      "6420/6680 [===========================>..] - ETA: 0s - loss: 0.0064 - acc: 0.9986Epoch 00016: val_loss did not improve\n",
      "6680/6680 [==============================] - 1s - loss: 0.0068 - acc: 0.9985 - val_loss: 0.7063 - val_acc: 0.8551\n",
      "Epoch 18/20\n",
      "6660/6680 [============================>.] - ETA: 0s - loss: 0.0061 - acc: 0.9985Epoch 00017: val_loss did not improve\n",
      "6680/6680 [==============================] - 1s - loss: 0.0061 - acc: 0.9985 - val_loss: 0.7070 - val_acc: 0.8527\n",
      "Epoch 19/20\n",
      "6660/6680 [============================>.] - ETA: 0s - loss: 0.0054 - acc: 0.9986Epoch 00018: val_loss did not improve\n",
      "6680/6680 [==============================] - 1s - loss: 0.0054 - acc: 0.9987 - val_loss: 0.7016 - val_acc: 0.8551\n",
      "Epoch 20/20\n",
      "6660/6680 [============================>.] - ETA: 0s - loss: 0.0052 - acc: 0.9991Epoch 00019: val_loss did not improve\n",
      "6680/6680 [==============================] - 1s - loss: 0.0051 - acc: 0.9991 - val_loss: 0.7151 - val_acc: 0.8611\n"
     ]
    },
    {
     "data": {
      "text/plain": [
       "<keras.callbacks.History at 0x7fd830489dd8>"
      ]
     },
     "execution_count": 46,
     "metadata": {},
     "output_type": "execute_result"
    }
   ],
   "source": [
    "### TODO: Train the model.\n",
    "from keras.callbacks import ModelCheckpoint  \n",
    "\n",
    "checkpointer = ModelCheckpoint(filepath='saved_models/weights.best.xception.hdf5', \n",
    "                               verbose=1, save_best_only=True)\n",
    "\n",
    "x_model.fit(train_xception, train_targets, \n",
    "          validation_data=(valid_xception, valid_targets),\n",
    "          epochs=20, batch_size=20, callbacks=[checkpointer], verbose=1)"
   ]
  },
  {
   "cell_type": "markdown",
   "metadata": {},
   "source": [
    "### (IMPLEMENTATION) Load the Model with the Best Validation Loss"
   ]
  },
  {
   "cell_type": "code",
   "execution_count": 28,
   "metadata": {
    "collapsed": true
   },
   "outputs": [],
   "source": [
    "### TODO: Load the model weights with the best validation loss.\n",
    "x_model.load_weights('saved_models/weights.best.xception.hdf5')\n",
    "\n"
   ]
  },
  {
   "cell_type": "markdown",
   "metadata": {},
   "source": [
    "### (IMPLEMENTATION) Test the Model\n",
    "\n",
    "Try out your model on the test dataset of dog images. Ensure that your test accuracy is greater than 60%."
   ]
  },
  {
   "cell_type": "code",
   "execution_count": 29,
   "metadata": {},
   "outputs": [
    {
     "name": "stdout",
     "output_type": "stream",
     "text": [
      "Test accuracy: 85.5263%\n"
     ]
    }
   ],
   "source": [
    "\n",
    "\n",
    "# get index of predicted dog breed for each image in test set\n",
    "x_predictions = [np.argmax(x_model.predict(np.expand_dims(feature, axis=0))) for feature in test_xception]\n",
    "\n",
    "# report test accuracy\n",
    "test_accuracy = 100*np.sum(np.array(x_predictions)==np.argmax(test_targets, axis=1))/len(x_predictions)\n",
    "print('Test accuracy: %.4f%%' % test_accuracy)"
   ]
  },
  {
   "cell_type": "markdown",
   "metadata": {},
   "source": [
    "### (IMPLEMENTATION) Predict Dog Breed with the Model\n",
    "\n",
    "Write a function that takes an image path as input and returns the dog breed (`Affenpinscher`, `Afghan_hound`, etc) that is predicted by your model.  \n",
    "\n",
    "Similar to the analogous function in Step 5, your function should have three steps:\n",
    "1. Extract the bottleneck features corresponding to the chosen CNN model.\n",
    "2. Supply the bottleneck features as input to the model to return the predicted vector.  Note that the argmax of this prediction vector gives the index of the predicted dog breed.\n",
    "3. Use the `dog_names` array defined in Step 0 of this notebook to return the corresponding breed.\n",
    "\n",
    "The functions to extract the bottleneck features can be found in `extract_bottleneck_features.py`, and they have been imported in an earlier code cell.  To obtain the bottleneck features corresponding to your chosen CNN architecture, you need to use the function\n",
    "\n",
    "    extract_{network}\n",
    "    \n",
    "where `{network}`, in the above filename, should be one of `VGG19`, `Resnet50`, `InceptionV3`, or `Xception`."
   ]
  },
  {
   "cell_type": "code",
   "execution_count": 30,
   "metadata": {
    "collapsed": true
   },
   "outputs": [],
   "source": [
    "\n",
    "### and returns the dog breed that is predicted by the model.\n",
    "from extract_bottleneck_features import *\n",
    "\n",
    "def x_predict_breed(img_path):\n",
    "    # extract bottleneck features\n",
    "    bottleneck_feature = extract_Xception(path_to_tensor(img_path))\n",
    "    # obtain predicted vector\n",
    "    predicted_vector = x_model.predict(bottleneck_feature)\n",
    "    # return dog breed that is predicted by the model\n",
    "    return dog_names[np.argmax(predicted_vector)]"
   ]
  },
  {
   "cell_type": "markdown",
   "metadata": {},
   "source": [
    "---\n",
    "<a id='step6'></a>\n",
    "## Step 6: Write your Algorithm\n",
    "\n",
    "Write an algorithm that accepts a file path to an image and first determines whether the image contains a human, dog, or neither.  Then,\n",
    "- if a __dog__ is detected in the image, return the predicted breed.\n",
    "- if a __human__ is detected in the image, return the resembling dog breed.\n",
    "- if __neither__ is detected in the image, provide output that indicates an error.\n",
    "\n",
    "You are welcome to write your own functions for detecting humans and dogs in images, but feel free to use the `face_detector` and `dog_detector` functions developed above.  You are __required__ to use your CNN from Step 5 to predict dog breed.  \n",
    "\n",
    "Some sample output for our algorithm is provided below, but feel free to design your own user experience!\n",
    "\n",
    "![Sample Human Output](images/sample_human_output.png)\n",
    "\n",
    "\n",
    "### (IMPLEMENTATION) Write your Algorithm"
   ]
  },
  {
   "cell_type": "code",
   "execution_count": 42,
   "metadata": {
    "collapsed": true
   },
   "outputs": [],
   "source": [
    "### TODO: Write your algorithm.\n",
    "### Feel free to use as many code cells as needed.\n",
    "def classify_dog(img_path):\n",
    "    if dog_detector(img_path):\n",
    "        return x_predict_breed(img_path)\n",
    "    else:\n",
    "        if face_detector(img_path):\n",
    "            return 'This human looks like a ' + x_predict_breed(img_path)\n",
    "    \n",
    "    return 'No Dog Found'"
   ]
  },
  {
   "cell_type": "markdown",
   "metadata": {},
   "source": [
    "---\n",
    "<a id='step7'></a>\n",
    "## Step 7: Test Your Algorithm\n",
    "\n",
    "In this section, you will take your new algorithm for a spin!  What kind of dog does the algorithm think that __you__ look like?  If you have a dog, does it predict your dog's breed accurately?  If you have a cat, does it mistakenly think that your cat is a dog?\n",
    "\n",
    "### (IMPLEMENTATION) Test Your Algorithm on Sample Images!\n",
    "\n",
    "Test your algorithm at least six images on your computer.  Feel free to use any images you like.  Use at least two human and two dog images.  \n",
    "\n",
    "__Question 6:__ Is the output better than you expected :) ?  Or worse :( ?  Provide at least three possible points of improvement for your algorithm.\n",
    "\n",
    "__Answer:__ "
   ]
  },
  {
   "cell_type": "markdown",
   "metadata": {
    "collapsed": true
   },
   "source": [
    "The output is about what I expected.  The first two clearly have my Irish Wolfhound front and center in the image, so the classifier has no problem with them.  There's pictures of two toy cats in a toy car for the next image, so it correctly determined that neither dogs or people are in the image.  Apparently, I look like a Petit_basset_griffon_vendeen.  It incorrectly identified my Beaceron as a Cane_corso, and again as a Chinese_shar-pei.  The Dachshund is kind of interesting, the picture is of my daughter wearing a costume where it's a dragon that sticks out from her waist, so I could see the long skinny dragon being a classified as a dachshund.  The last image doesn't have a good focus on anything.  It has a few basset hounds, but they must be too small in the frame to pick up.  It can still identify faces, so it tries to ID it anyways.  The corgi isn't a bad guess for Basset hounds, since they're both stocky, long dogs.\n",
    "\n",
    "My algorithm could be improved with better data augmentation.  1) I think zooming in and out on test images would help to recognize when dogs are small in the picture.  2)  I think, since one of my dogs is black, it had a hard time telling him from other black breeds.  Maybe by lightening or darkening training images, it might get better at identifying black dogs. 3) It could also be improved by trying to detect more than one dog.  Several of the images I used had multiple dogs."
   ]
  },
  {
   "cell_type": "code",
   "execution_count": 43,
   "metadata": {},
   "outputs": [
    {
     "name": "stdout",
     "output_type": "stream",
     "text": [
      "Irish_wolfhound\n",
      "Irish_wolfhound\n",
      "No Dog Found\n",
      "This human looks like a Petit_basset_griffon_vendeen\n",
      "Cane_corso\n",
      "This human looks like a Dachshund\n",
      "Chinese_shar-pei\n",
      "This human looks like a Cardigan_welsh_corgi\n"
     ]
    }
   ],
   "source": [
    "## TODO: Execute your algorithm from Step 6 on\n",
    "## at least 6 images on your computer.\n",
    "## Feel free to use as many code cells as needed.\n",
    "img_paths= [\n",
    "    'haylGladys.jpg',\n",
    "    'haylGladysCourthouse.jpg',\n",
    "    'fastCats.jpg',\n",
    "    'me.jpg',\n",
    "    'poneGladHayl.jpg',\n",
    "    'magsDragonRider.jpg',\n",
    "    'pone&lum.jpg',\n",
    "    'bassets.jpg'\n",
    "]\n",
    "img_dir='/home/dan/Pictures/Photos/'\n",
    "\n",
    "for img_path in img_paths:\n",
    "    print(classify_dog(img_dir+img_path))\n",
    "    "
   ]
  },
  {
   "cell_type": "code",
   "execution_count": null,
   "metadata": {
    "collapsed": true
   },
   "outputs": [],
   "source": []
  }
 ],
 "metadata": {
  "anaconda-cloud": {},
  "kernelspec": {
   "display_name": "dog-project",
   "language": "python",
   "name": "dog-project"
  },
  "language_info": {
   "codemirror_mode": {
    "name": "ipython",
    "version": 3
   },
   "file_extension": ".py",
   "mimetype": "text/x-python",
   "name": "python",
   "nbconvert_exporter": "python",
   "pygments_lexer": "ipython3",
   "version": "3.6.3"
  }
 },
 "nbformat": 4,
 "nbformat_minor": 1
}
